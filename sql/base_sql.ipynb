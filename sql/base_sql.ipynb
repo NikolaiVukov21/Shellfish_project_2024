{
 "cells": [
  {
   "cell_type": "code",
   "execution_count": 59,
   "id": "81d424f8",
   "metadata": {},
   "outputs": [],
   "source": [
    "!pip install -q sql av pillow pandas sqlalchemy ipython-sql pymysql"
   ]
  },
  {
   "cell_type": "code",
   "execution_count": 60,
   "id": "b9de8481",
   "metadata": {},
   "outputs": [],
   "source": [
    "import pandas as pd\n",
    "import pymysql\n",
    "from pymysql.err import IntegrityError, OperationalError\n",
    "import os\n",
    "from ultralytics import YOLOv10\n",
    "from PIL import Image\n",
    "import numpy as np\n",
    "import supervision as sv\n",
    "import cv2\n",
    "import av, os\n",
    "from PIL import Image\n",
    "import shutil as sh"
   ]
  },
  {
   "cell_type": "code",
   "execution_count": 61,
   "id": "b9de8481",
   "metadata": {},
   "outputs": [],
   "source": [
    "def annotate_image(input_img, label_annotator, bounding_box_annotator, model_pred, verbose = False):\n",
    "    cont_img = np.ascontiguousarray(input_img, dtype=np.uint8)\n",
    "    results = model_pred(cont_img, conf=0.10, verbose = verbose)[0]\n",
    "    detections = sv.Detections.from_ultralytics(results)\n",
    "    annotated_image = bounding_box_annotator.annotate(\n",
    "        scene=input_img, detections=detections)\n",
    "    annotated_image = label_annotator.annotate(\n",
    "        scene=annotated_image, detections=detections)\n",
    "    return(annotated_image)\n",
    "\n",
    "def annotate_video(in_path, out_path = '.', model_file = 'best.pt', im_width = 416, im_height = 416):\n",
    "    bba = sv.BoundingBoxAnnotator()\n",
    "    la = sv.LabelAnnotator()\n",
    "    model = YOLOv10(model_file)\n",
    "\n",
    "    container = av.open(in_path)\n",
    "    stream_vid = container.streams.video[0]\n",
    "    fname = in_path.rsplit('/', 1)[-1]\n",
    "    per_index = fname.index('.')\n",
    "    out_path = f'{out_path}/{fname[:per_index]}_annotated.mp4'\n",
    "    outp = av.open(out_path, 'w')\n",
    "    codec_name = stream_vid.codec_context.name\n",
    "    fps = stream_vid.codec_context.rate\n",
    "    output_stream = outp.add_stream(codec_name, str(fps))\n",
    "    output_stream.width = im_width\n",
    "    output_stream.height = im_height\n",
    "    output_stream.pix_fmt = stream_vid.codec_context.pix_fmt\n",
    "    for index, frame in enumerate(container.decode(stream_vid)):\n",
    "        pil_img = frame.to_image()\n",
    "        np_img = np.array(pil_img)\n",
    "        np_img_resize = cv2.resize(np_img, (im_width, im_height))\n",
    "        np_rot = np_img_resize[:, :, ::-1]\n",
    "        small_pil_img = Image.fromarray(np_rot)\n",
    "        np_image_2 = np.array(small_pil_img)\n",
    "        an_mg = annotate_image(np_image_2, label_annotator = la, bounding_box_annotator=bba, model_pred = model, verbose = False)\n",
    "        frame_out = av.VideoFrame.from_ndarray(an_mg, format='bgr24')\n",
    "        pkt = output_stream.encode(frame_out)\n",
    "        outp.mux(pkt)\n",
    "    container.close()\n",
    "    outp.close()\n",
    "\n",
    "    print(f'Annotated video has been saved as {out_path}')\n",
    "    return True"
   ]
  },
  {
   "cell_type": "code",
   "execution_count": 157,
   "id": "4015dd2e",
   "metadata": {},
   "outputs": [],
   "source": [
    "db_main = 'test_4'\n",
    "cur_name = 'ab'\n"
   ]
  },
  {
   "cell_type": "code",
   "execution_count": 158,
   "id": "2dbfd461",
   "metadata": {},
   "outputs": [
    {
     "data": {
      "text/plain": [
       "[{'1': 1}]"
      ]
     },
     "execution_count": 158,
     "metadata": {},
     "output_type": "execute_result"
    }
   ],
   "source": [
    "sql_conn = pymysql.connect(\n",
    "    user=\"root\",\n",
    "    password=\"dbuserdbuser\",\n",
    "    host=\"localhost\",\n",
    "    port=3306,\n",
    "    database=db_main,\n",
    "    cursorclass=pymysql.cursors.DictCursor,\n",
    "    autocommit=True)\n",
    "\n",
    "cur = sql_conn.cursor()\n",
    "res = cur.execute(\"SELECT 1\")\n",
    "res = cur.fetchall()\n",
    "res"
   ]
  },
  {
   "cell_type": "code",
   "execution_count": 159,
   "id": "650cb013",
   "metadata": {},
   "outputs": [
    {
     "data": {
      "text/plain": [
       "1"
      ]
     },
     "execution_count": 159,
     "metadata": {},
     "output_type": "execute_result"
    }
   ],
   "source": [
    "def add_user(name, password):\n",
    "    '''\n",
    "    Returns: 1 if query is successful, 0 if not\n",
    "    '''\n",
    "\n",
    "    try:\n",
    "        res = cur.execute(f\"INSERT INTO people (Username, Password, Time_Created) VALUES ('{name}', '{password}', CURRENT_TIMESTAMP );\")\n",
    "    except IntegrityError:\n",
    "        print(f\"Integrity Error Violated: Duplicate User with {name}\")\n",
    "        res = 0\n",
    "    return res\n",
    "add_user(cur_name, '123')"
   ]
  },
  {
   "cell_type": "code",
   "execution_count": 160,
   "id": "b79cee66",
   "metadata": {},
   "outputs": [],
   "source": [
    "def get_ext(fpath):\n",
    "    fname = fpath.rsplit('/', 1)[-1]\n",
    "    per_index = fname.index('.')\n",
    "    ext = fname[per_index + 1:].lower()\n",
    "    return ext\n",
    "\n",
    "def get_id_fname(f_out, fpath, id):\n",
    "    fname = fpath.rsplit('/', 1)[-1]\n",
    "    per_index = fname.index('.')\n",
    "    ext = fname[per_index + 1:].lower()\n",
    "    return f\"{f_out}/{fname[:per_index]}-{id}.{ext}\"\n",
    "\n",
    "def get_REPLACE_ID():\n",
    "    cur.execute(f\"\"\"SELECT Raw_File_ID from raw_files where Filepath = 'REPLACE'\"\"\")\n",
    "    id = cur.fetchall()[-1]['Raw_File_ID']\n",
    "    return id\n",
    "\n",
    "def add_photo(name, fpath, notes = '', f_out = './Files/Image_raw'):\n",
    "    '''\n",
    "    Returns: Index of added photo if successful, 0 if not\n",
    "    '''\n",
    "\n",
    "    im = Image.open(fpath)\n",
    "    width = im.size[0]\n",
    "    height = im.size[1]\n",
    "    fsize = os.stat(fpath).st_size\n",
    "    ext = get_ext(fpath)\n",
    "\n",
    "    cur.execute(f\"INSERT INTO raw_files (Username, Filepath, Size, Type, Extension, Notes, Width, Height, Time_Uploaded) VALUES ('{name}', 'REPLACE', {fsize}, 'Image', '{ext}', '{notes}', {width}, {height}, CURRENT_TIMESTAMP);\")\n",
    "    id = get_REPLACE_ID()\n",
    "    f_id_name = get_id_fname(f_out, fpath, id)\n",
    "    im.save(f_id_name)\n",
    "\n",
    "    cur.execute(f\"UPDATE raw_files SET Filepath = '{f_id_name}' WHERE Raw_File_ID = {id};\")\n",
    "    return id\n",
    "\n",
    "\n",
    "\n",
    "\n",
    "\n",
    "id_raw_photo = add_photo(cur_name, fpath = 'C:/Users/micha/OneDrive/Desktop/Shellfish_project_2024/Jupyter_local_code/dummy.jpg', notes = 'after significant changes')"
   ]
  },
  {
   "cell_type": "code",
   "execution_count": 164,
   "id": "a12356f6",
   "metadata": {},
   "outputs": [],
   "source": [
    "import cv2\n",
    "def add_video(name, fpath, notes = '', f_out = './Files/Video_raw'):\n",
    "    '''\n",
    "    Returns: Index of added video if successful, 0 if not\n",
    "    '''\n",
    "    cap = cv2.VideoCapture(fpath)\n",
    "    width = int(cap.get(cv2.CAP_PROP_FRAME_WIDTH))\n",
    "    height = int(cap.get(cv2.CAP_PROP_FRAME_HEIGHT))\n",
    "    fsize = os.stat(fpath).st_size\n",
    "    ext = get_ext(fpath)\n",
    "    \n",
    "    cur.execute(f\"INSERT INTO raw_files (Username, Filepath, Size, Type, Extension, Notes, Width, Height, Time_Uploaded) VALUES ('{name}', 'REPLACE', {fsize}, 'Video', '{ext}', '{notes}', {width}, {height}, CURRENT_TIMESTAMP);\")\n",
    "    id = get_REPLACE_ID()\n",
    "    f_id_name = get_id_fname(f_out, fpath, id)\n",
    "    sh.copyfile(fpath, f_id_name)\n",
    "\n",
    "    cur.execute(f\"UPDATE raw_files SET Filepath = '{f_id_name}' WHERE Raw_File_ID = {id};\")\n",
    "\n",
    "    fps = cap.get(cv2.CAP_PROP_FPS)\n",
    "    color_order = 'RGB' # FIXME - cant figure out how to extract from cv2 object\n",
    "\n",
    "    cur.execute(f\"INSERT INTO videos (Raw_File_ID, FPS, Color_Order) VALUES ('{id}', '{fps}', '{color_order}');\")\n",
    "\n",
    "    return id\n",
    "\n",
    "fpath_vid = \"C:/Users/micha/OneDrive/Desktop/Shellfish_project_2024/GOPR1077.MP4\"\n",
    "id_raw_video = add_video(cur_name, fpath_vid, notes='without dummy files')"
   ]
  },
  {
   "cell_type": "code",
   "execution_count": null,
   "id": "f0ff28c3",
   "metadata": {},
   "outputs": [],
   "source": []
  },
  {
   "cell_type": "code",
   "execution_count": 156,
   "id": "79e771d7",
   "metadata": {},
   "outputs": [
    {
     "data": {
      "text/plain": [
       "'./Files/Video_raw/GOPR1077-17.mp4'"
      ]
     },
     "execution_count": 156,
     "metadata": {},
     "output_type": "execute_result"
    }
   ],
   "source": [
    "sh.copyfile(fpath_vid, \"./Files/Video_raw/GOPR1077-17.mp4\")"
   ]
  },
  {
   "cell_type": "code",
   "execution_count": 57,
   "id": "9e1bbd60",
   "metadata": {},
   "outputs": [
    {
     "name": "stdout",
     "output_type": "stream",
     "text": [
      "Integrity Error Violated: Duplicate Primary Key with ab\n",
      "False\n"
     ]
    }
   ],
   "source": [
    "b = add_user('ab', 'cde')\n",
    "print(b)"
   ]
  },
  {
   "cell_type": "code",
   "execution_count": null,
   "id": "6f324287",
   "metadata": {},
   "outputs": [],
   "source": []
  },
  {
   "cell_type": "code",
   "execution_count": 46,
   "id": "9f37d18a",
   "metadata": {},
   "outputs": [],
   "source": [
    "\n",
    "res = cur.execute(\"DELETE FROM test_db.people WHERE Username = 'test_man';\")\n",
    "res = cur.execute(\"INSERT INTO test_db.people (Username, Password, Time_Created) VALUES ('test_man', 'test_pwd_2', CURRENT_TIMESTAMP );\")\n"
   ]
  }
 ],
 "metadata": {
  "kernelspec": {
   "display_name": "Python 3 (ipykernel)",
   "language": "python",
   "name": "python3"
  },
  "language_info": {
   "codemirror_mode": {
    "name": "ipython",
    "version": 3
   },
   "file_extension": ".py",
   "mimetype": "text/x-python",
   "name": "python",
   "nbconvert_exporter": "python",
   "pygments_lexer": "ipython3",
   "version": "3.8.0"
  }
 },
 "nbformat": 4,
 "nbformat_minor": 5
}
