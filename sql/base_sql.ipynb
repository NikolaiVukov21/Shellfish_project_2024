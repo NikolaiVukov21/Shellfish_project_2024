{
 "cells": [
  {
   "cell_type": "markdown",
   "id": "daa3bc08",
   "metadata": {},
   "source": [
    "<style  type=\"text/css\">\n",
    "cool {\n",
    "  width: 100px;\n",
    "  height: 100px;\n",
    "  background-color: red;\n",
    "  position: relative;\n",
    "  -webkit-animation-name: example; /* Safari 4.0 - 8.0 */\n",
    "  -webkit-animation-duration: 4s; /* Safari 4.0 - 8.0 */\n",
    "  -webkit-animation-iteration-count: infinite; /* Safari 4.0 - 8.0 */\n",
    "  animation-name: example;\n",
    "  animation-duration: 4s;\n",
    "  animation-iteration-count: infinite;\n",
    "}\n",
    "\n",
    "/* Safari 4.0 - 8.0 */\n",
    "@-webkit-keyframes example {\n",
    "  0%   {background-color:red; left:0px; top:0px;}\n",
    "  25%  {background-color:yellow; left:200px; top:0px;}\n",
    "  50%  {background-color:blue; left:200px; top:200px;}\n",
    "  75%  {background-color:green; left:0px; top:200px;}\n",
    "  100% {background-color:red; left:0px; top:0px;}\n",
    "}\n",
    "\n",
    "/* Standard syntax */\n",
    "@keyframes example {\n",
    "  0%   {background-color:red; left:0px; top:0px;}\n",
    "  25%  {background-color:yellow; left:200px; top:0px;}\n",
    "  50%  {background-color:blue; left:200px; top:200px;}\n",
    "  75%  {background-color:green; left:0px; top:200px;}\n",
    "  100% {background-color:red; left:0px; top:0px;}\n",
    "}\n",
    "</style>\n",
    "\n",
    "<b><center>\n",
    "<span style=\"font-size: 24pt; line-height: 1.2\">\n",
    "COMS W4111: Introduction to Databases<br>\n",
    "Fall 2023, Sections 002\n",
    "</span>\n",
    "</center></b>\n",
    "<br>\n",
    "<p>\n",
    "<i><center>\n",
    "<span style=\"font-size: 20pt; line-height: 1.2\">\n",
    "Homework 2\n",
    "</span>\n",
    "</center></i>"
   ]
  },
  {
   "cell_type": "markdown",
   "id": "335ca07e",
   "metadata": {},
   "source": [
    "# Introduction"
   ]
  },
  {
   "cell_type": "markdown",
   "id": "0df6d18f",
   "metadata": {},
   "source": [
    "This notebook contains HW2. **Both Programming and Nonprogramming tracks should complete this part.** To ensure everything runs as expected, work on this notebook in Jupyter.\n",
    "\n",
    "Submission instructions:\n",
    "\n",
    "* You will submit **PDF and ZIP files** for this assignment. Gradescope will have two separate assignments for these.\n",
    "* For the PDF:\n",
    "    * The most reliable way to save as PDF is to go to your browser's menu bar and click `File -> Print`. Switch the orientation to landscape mode, and hit save.\n",
    "    * **MAKE SURE ALL YOUR WORK (CODE AND SCREENSHOTS) IS VISIBLE ON THE PDF. YOU WILL NOT GET CREDIT IF ANYTHING IS CUT OFF.** Reach out for troubleshooting.\n",
    "* For the ZIP:\n",
    "    * Zip a folder containing this notebook and any screenshots.\n",
    "* Further submission instructions may be posted on Edstem."
   ]
  },
  {
   "cell_type": "markdown",
   "id": "13c375b0",
   "metadata": {},
   "source": [
    "# Setup"
   ]
  },
  {
   "cell_type": "code",
   "execution_count": 6,
   "id": "81d424f8",
   "metadata": {},
   "outputs": [
    {
     "name": "stdout",
     "output_type": "stream",
     "text": [
      "Requirement already satisfied: pymysql in c:\\python38\\lib\\site-packages (1.1.1)\n"
     ]
    }
   ],
   "source": [
    "!pip install -q sql\n",
    "!pip install -q pandas\n",
    "!pip install -q sqlalchemy\n",
    "!pip install -q ipython-sql\n",
    "!pip install -q pymysql"
   ]
  },
  {
   "cell_type": "code",
   "execution_count": 1,
   "id": "b9de8481",
   "metadata": {},
   "outputs": [],
   "source": [
    "import csv\n",
    "import copy\n",
    "\n",
    "import pandas as pd\n",
    "import pymysql"
   ]
  },
  {
   "cell_type": "code",
   "execution_count": 2,
   "id": "2dbfd461",
   "metadata": {},
   "outputs": [
    {
     "data": {
      "text/plain": [
       "[{'1': 1}]"
      ]
     },
     "execution_count": 2,
     "metadata": {},
     "output_type": "execute_result"
    }
   ],
   "source": [
    "sql_conn = pymysql.connect(\n",
    "    user=\"root\",\n",
    "    password=\"dbuserdbuser\",\n",
    "    host=\"localhost\",\n",
    "    port=3306,\n",
    "    cursorclass=pymysql.cursors.DictCursor,\n",
    "    autocommit=True)\n",
    "\n",
    "cur = sql_conn.cursor()\n",
    "res = cur.execute(\"SELECT 1\")\n",
    "res = cur.fetchall()\n",
    "res"
   ]
  },
  {
   "cell_type": "code",
   "execution_count": 22,
   "id": "9f37d18a",
   "metadata": {},
   "outputs": [],
   "source": [
    "\n",
    "res = cur.execute(\"DELETE FROM test_db.people WHERE Username = 'test_man';\")\n",
    "res = cur.execute(\"INSERT INTO test_db.people (Username, Password, Time_Created) VALUES ('test_man', 'test_pwd_2', CURRENT_TIMESTAMP );\")\n"
   ]
  },
  {
   "cell_type": "code",
   "execution_count": null,
   "id": "48cf1dce",
   "metadata": {},
   "outputs": [],
   "source": [
    "%%sql\n",
    "\n",
    "DROP SCHEMA IF EXISTS f23_hw2;\n",
    "CREATE SCHEMA f23_hw2;\n",
    "USE f23_hw2;"
   ]
  },
  {
   "cell_type": "code",
   "execution_count": null,
   "id": "d18c9d68",
   "metadata": {},
   "outputs": [],
   "source": [
    "%%sql\n",
    "\n",
    "# The following assumes that you have created everything properly\n",
    "\n",
    "DELETE FROM f23_hw2.student;\n",
    "DELETE FROM f23_hw2.employee;"
   ]
  },
  {
   "cell_type": "code",
   "execution_count": 4,
   "id": "9520fcac",
   "metadata": {},
   "outputs": [
    {
     "ename": "FileNotFoundError",
     "evalue": "[Errno 2] No such file or directory: 'people_info.csv'",
     "output_type": "error",
     "traceback": [
      "\u001b[1;31m---------------------------------------------------------------------------\u001b[0m",
      "\u001b[1;31mFileNotFoundError\u001b[0m                         Traceback (most recent call last)",
      "Cell \u001b[1;32mIn[4], line 2\u001b[0m\n\u001b[0;32m      1\u001b[0m people_info \u001b[38;5;241m=\u001b[39m []\n\u001b[1;32m----> 2\u001b[0m \u001b[38;5;28;01mwith\u001b[39;00m \u001b[38;5;28;43mopen\u001b[39;49m\u001b[43m(\u001b[49m\u001b[38;5;124;43m\"\u001b[39;49m\u001b[38;5;124;43mpeople_info.csv\u001b[39;49m\u001b[38;5;124;43m\"\u001b[39;49m\u001b[43m,\u001b[49m\u001b[43m \u001b[49m\u001b[38;5;124;43m\"\u001b[39;49m\u001b[38;5;124;43mr\u001b[39;49m\u001b[38;5;124;43m\"\u001b[39;49m\u001b[43m)\u001b[49m \u001b[38;5;28;01mas\u001b[39;00m in_file:\n\u001b[0;32m      3\u001b[0m     d_rdr \u001b[38;5;241m=\u001b[39m csv\u001b[38;5;241m.\u001b[39mDictReader(in_file)\n\u001b[0;32m      4\u001b[0m     \u001b[38;5;28;01mfor\u001b[39;00m r \u001b[38;5;129;01min\u001b[39;00m d_rdr:\n",
      "File \u001b[1;32m~\\AppData\\Roaming\\Python\\Python38\\site-packages\\IPython\\core\\interactiveshell.py:284\u001b[0m, in \u001b[0;36m_modified_open\u001b[1;34m(file, *args, **kwargs)\u001b[0m\n\u001b[0;32m    277\u001b[0m \u001b[38;5;28;01mif\u001b[39;00m file \u001b[38;5;129;01min\u001b[39;00m {\u001b[38;5;241m0\u001b[39m, \u001b[38;5;241m1\u001b[39m, \u001b[38;5;241m2\u001b[39m}:\n\u001b[0;32m    278\u001b[0m     \u001b[38;5;28;01mraise\u001b[39;00m \u001b[38;5;167;01mValueError\u001b[39;00m(\n\u001b[0;32m    279\u001b[0m         \u001b[38;5;124mf\u001b[39m\u001b[38;5;124m\"\u001b[39m\u001b[38;5;124mIPython won\u001b[39m\u001b[38;5;124m'\u001b[39m\u001b[38;5;124mt let you open fd=\u001b[39m\u001b[38;5;132;01m{\u001b[39;00mfile\u001b[38;5;132;01m}\u001b[39;00m\u001b[38;5;124m by default \u001b[39m\u001b[38;5;124m\"\u001b[39m\n\u001b[0;32m    280\u001b[0m         \u001b[38;5;124m\"\u001b[39m\u001b[38;5;124mas it is likely to crash IPython. If you know what you are doing, \u001b[39m\u001b[38;5;124m\"\u001b[39m\n\u001b[0;32m    281\u001b[0m         \u001b[38;5;124m\"\u001b[39m\u001b[38;5;124myou can use builtins\u001b[39m\u001b[38;5;124m'\u001b[39m\u001b[38;5;124m open.\u001b[39m\u001b[38;5;124m\"\u001b[39m\n\u001b[0;32m    282\u001b[0m     )\n\u001b[1;32m--> 284\u001b[0m \u001b[38;5;28;01mreturn\u001b[39;00m \u001b[43mio_open\u001b[49m\u001b[43m(\u001b[49m\u001b[43mfile\u001b[49m\u001b[43m,\u001b[49m\u001b[43m \u001b[49m\u001b[38;5;241;43m*\u001b[39;49m\u001b[43margs\u001b[49m\u001b[43m,\u001b[49m\u001b[43m \u001b[49m\u001b[38;5;241;43m*\u001b[39;49m\u001b[38;5;241;43m*\u001b[39;49m\u001b[43mkwargs\u001b[49m\u001b[43m)\u001b[49m\n",
      "\u001b[1;31mFileNotFoundError\u001b[0m: [Errno 2] No such file or directory: 'people_info.csv'"
     ]
    }
   ],
   "source": []
  },
  {
   "cell_type": "code",
   "execution_count": 3,
   "id": "11c91cd5",
   "metadata": {},
   "outputs": [],
   "source": [
    "# If you have defined your procedures, functions, tables, and constraints correctly, you can use the function below\n",
    "# to load your data.\n",
    "\n",
    "def add_person(p):\n",
    "    \"\"\"\n",
    "    p is a dictionary containing the column values for either a student or an employee.\n",
    "    \"\"\"\n",
    "    \n",
    "    cur = sql_conn.cursor()\n",
    "    \n",
    "    # This function changes the data, converting '' to None.\n",
    "    # So, we make a copy and change the copy.\n",
    "    p_dict = copy.copy(p)\n",
    "    for k,v in p_dict.items():\n",
    "        if v == '':\n",
    "            p_dict[k] = None\n",
    "    \n",
    "    # Is the person a student?\n",
    "    #\n",
    "    if p_dict['employee_type'] is None:\n",
    "        \n",
    "        # This provides a hint for what your stored procedure will look like.\n",
    "        res = cur.callproc(\"f23_hw2.create_student\",\n",
    "                           # The following are in parameters\n",
    "                          (p_dict['first_name'],\n",
    "                          p_dict['middle_name'],\n",
    "                          p_dict['last_name'],\n",
    "                           p_dict['email'],\n",
    "                          p_dict['enrollment_year'],\n",
    "                           # The following are out parameters for uni.\n",
    "                          None))\n",
    "        \n",
    "        # After the procedure executes, the following query will select the out values.\n",
    "        res = cur.execute(\"\"\"SELECT @_f23_hw2.create_student_5\"\"\")\n",
    "        result = cur.fetchall()\n",
    "    \n",
    "    # The following does the same for employee.\n",
    "    elif p_dict['enrollment_year'] is None:\n",
    "        res = cur.callproc(\"f23_hw2.create_employee\",\n",
    "                          (p_dict['first_name'],\n",
    "                          p_dict['middle_name'],\n",
    "                          p_dict['last_name'],\n",
    "                           p_dict['email'],\n",
    "                          p_dict['employee_type'],\n",
    "                          None))\n",
    "        res = cur.execute(\"\"\"SELECT @_f23_hw2.create_student_5\"\"\")\n",
    "        result = cur.fetchall()\n",
    "    else:\n",
    "        print(\"Something went wrong\")\n",
    "        result = None\n",
    "    \n",
    "    sql_conn.commit()\n",
    "    cur.close()\n",
    "    return result"
   ]
  },
  {
   "cell_type": "code",
   "execution_count": null,
   "id": "de982c89",
   "metadata": {},
   "outputs": [],
   "source": [
    "for p in people_info:\n",
    "    add_person(p)"
   ]
  },
  {
   "cell_type": "code",
   "execution_count": null,
   "id": "3018cdde",
   "metadata": {},
   "outputs": [],
   "source": [
    "# Test that we loaded people\n",
    "%sql SELECT * FROM people"
   ]
  },
  {
   "cell_type": "code",
   "execution_count": null,
   "id": "61df2518",
   "metadata": {},
   "outputs": [],
   "source": [
    "# Test that we loaded students\n",
    "%sql SELECT * FROM student"
   ]
  },
  {
   "cell_type": "code",
   "execution_count": null,
   "id": "b2bb63cf",
   "metadata": {},
   "outputs": [],
   "source": [
    "# Test that we loaded employees\n",
    "%sql SELECT * FROM employee"
   ]
  },
  {
   "cell_type": "markdown",
   "id": "33d01c11",
   "metadata": {},
   "source": [
    "## Testing\n",
    "\n",
    "Add your tests below. You should test\n",
    "\n",
    "1. Successful execution of each procedure.\n",
    "2. Execution of update procedures showing that your constraints prevent incorrect data entry and enforce the defined semantics and behavior.\n",
    "3. ```general_user``` can query the data and call the procedures, but cannot perform ```INSERT```, ```UPDATE```, or ```DELETE```."
   ]
  },
  {
   "cell_type": "code",
   "execution_count": null,
   "id": "d268616e",
   "metadata": {},
   "outputs": [],
   "source": []
  },
  {
   "cell_type": "code",
   "execution_count": null,
   "id": "fa72f462",
   "metadata": {},
   "outputs": [],
   "source": []
  },
  {
   "cell_type": "code",
   "execution_count": null,
   "id": "3c991dae",
   "metadata": {},
   "outputs": [],
   "source": []
  }
 ],
 "metadata": {
  "kernelspec": {
   "display_name": "Python 3 (ipykernel)",
   "language": "python",
   "name": "python3"
  },
  "language_info": {
   "codemirror_mode": {
    "name": "ipython",
    "version": 3
   },
   "file_extension": ".py",
   "mimetype": "text/x-python",
   "name": "python",
   "nbconvert_exporter": "python",
   "pygments_lexer": "ipython3",
   "version": "3.8.0"
  }
 },
 "nbformat": 4,
 "nbformat_minor": 5
}
