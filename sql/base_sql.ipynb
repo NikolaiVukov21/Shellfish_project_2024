{
 "cells": [
  {
   "cell_type": "code",
   "execution_count": 38,
   "id": "81d424f8",
   "metadata": {},
   "outputs": [],
   "source": [
    "%pip install -q sql av pillow pandas sqlalchemy ipython-sql pymysql roboflow git+https://github.com/THU-MIG/yolov10.git supervision huggingface_hub bottleneck==1.3.6 numexpr==2.8.4"
   ]
  },
  {
   "cell_type": "code",
   "execution_count": 9,
   "id": "b9de8481",
   "metadata": {},
   "outputs": [],
   "source": [
    "import pandas as pd\n",
    "import pymysql\n",
    "from pymysql.err import IntegrityError, OperationalError\n",
    "import os\n",
    "from PIL import Image\n",
    "import numpy as np\n",
    "import supervision as sv\n",
    "import cv2\n",
    "import av\n",
    "from PIL import Image\n",
    "import shutil as sh\n",
    "import re\n",
    "from roboflow import Roboflow\n",
    "import cv2\n",
    "from ultralytics import YOLOv10\n",
    "import wget\n"
   ]
  },
  {
   "cell_type": "code",
   "execution_count": 3,
   "id": "b9de8481",
   "metadata": {},
   "outputs": [],
   "source": [
    "def annotate_image(input_img, label_annotator, bounding_box_annotator, model_pred, verbose = False):\n",
    "    cont_img = np.ascontiguousarray(input_img, dtype=np.uint8)\n",
    "    results = model_pred(cont_img, conf=0.10, verbose = verbose)[0]\n",
    "    detections = sv.Detections.from_ultralytics(results)\n",
    "    annotated_image = bounding_box_annotator.annotate(\n",
    "        scene=input_img, detections=detections)\n",
    "    annotated_image = label_annotator.annotate(\n",
    "        scene=annotated_image, detections=detections)\n",
    "    return(annotated_image)\n",
    "\n",
    "def annotate_video(in_path, out_path = '.', model_file = 'best.pt', im_width = 416, im_height = 416):\n",
    "    bba = sv.BoundingBoxAnnotator()\n",
    "    la = sv.LabelAnnotator()\n",
    "    model = YOLOv10(model_file)\n",
    "\n",
    "    container = av.open(in_path)\n",
    "    stream_vid = container.streams.video[0]\n",
    "    fname = in_path.rsplit('/', 1)[-1]\n",
    "    per_index = fname.index('.')\n",
    "    out_path = f'{out_path}/{fname[:per_index]}_annotated.mp4'\n",
    "    outp = av.open(out_path, 'w')\n",
    "    codec_name = stream_vid.codec_context.name\n",
    "    fps = stream_vid.codec_context.rate\n",
    "    output_stream = outp.add_stream(codec_name, str(fps))\n",
    "    output_stream.width = im_width\n",
    "    output_stream.height = im_height\n",
    "    output_stream.pix_fmt = stream_vid.codec_context.pix_fmt\n",
    "    for index, frame in enumerate(container.decode(stream_vid)):\n",
    "        pil_img = frame.to_image()\n",
    "        np_img = np.array(pil_img)\n",
    "        np_img_resize = cv2.resize(np_img, (im_width, im_height))\n",
    "        np_rot = np_img_resize[:, :, ::-1]\n",
    "        small_pil_img = Image.fromarray(np_rot)\n",
    "        np_image_2 = np.array(small_pil_img)\n",
    "        an_mg = annotate_image(np_image_2, label_annotator = la, bounding_box_annotator=bba, model_pred = model, verbose = False)\n",
    "        frame_out = av.VideoFrame.from_ndarray(an_mg, format='bgr24')\n",
    "        pkt = output_stream.encode(frame_out)\n",
    "        outp.mux(pkt)\n",
    "    container.close()\n",
    "    outp.close()\n",
    "\n",
    "    print(f'Annotated video has been saved as {out_path}')\n",
    "    return True"
   ]
  },
  {
   "cell_type": "code",
   "execution_count": 4,
   "id": "4015dd2e",
   "metadata": {},
   "outputs": [],
   "source": [
    "db_main = 'test_4'\n",
    "cur_name = 'ab'\n"
   ]
  },
  {
   "cell_type": "code",
   "execution_count": 5,
   "id": "2dbfd461",
   "metadata": {},
   "outputs": [
    {
     "data": {
      "text/plain": [
       "[{'1': 1}]"
      ]
     },
     "execution_count": 5,
     "metadata": {},
     "output_type": "execute_result"
    }
   ],
   "source": [
    "sql_conn = pymysql.connect(\n",
    "    user=\"root\",\n",
    "    password=\"dbuserdbuser\",\n",
    "    host=\"localhost\",\n",
    "    port=3306,\n",
    "    database=db_main,\n",
    "    cursorclass=pymysql.cursors.DictCursor,\n",
    "    autocommit=True)\n",
    "\n",
    "cur = sql_conn.cursor()\n",
    "res = cur.execute(\"SELECT 1\")\n",
    "res = cur.fetchall()\n",
    "res"
   ]
  },
  {
   "cell_type": "code",
   "execution_count": 6,
   "id": "650cb013",
   "metadata": {},
   "outputs": [
    {
     "name": "stdout",
     "output_type": "stream",
     "text": [
      "Integrity Error Violated: Duplicate User with ab\n"
     ]
    },
    {
     "data": {
      "text/plain": [
       "0"
      ]
     },
     "execution_count": 6,
     "metadata": {},
     "output_type": "execute_result"
    }
   ],
   "source": [
    "def add_user(name, password):\n",
    "    '''\n",
    "    Returns: 1 if query is successful, 0 if not\n",
    "    '''\n",
    "\n",
    "    try:\n",
    "        res = cur.execute(f\"INSERT INTO people (Username, Password, Time_Created) VALUES ('{name}', '{password}', CURRENT_TIMESTAMP );\")\n",
    "    except IntegrityError:\n",
    "        print(f\"Integrity Error Violated: Duplicate User with {name}\")\n",
    "        res = 0\n",
    "    return res\n",
    "add_user(cur_name, '123')"
   ]
  },
  {
   "cell_type": "code",
   "execution_count": 13,
   "id": "9327bfd6",
   "metadata": {},
   "outputs": [],
   "source": [
    "def get_ext(fpath):\n",
    "    fname = fpath.rsplit('/', 1)[-1]\n",
    "    per_index = fname.index('.')\n",
    "    ext = fname[per_index + 1:].lower()\n",
    "    return ext\n",
    "\n",
    "def get_id_fname(f_out, fpath, id):\n",
    "    fname = fpath.rsplit('/', 1)[-1]\n",
    "    per_index = fname.index('.')\n",
    "    ext = fname[per_index + 1:].lower()\n",
    "    return f\"{f_out}/{fname[:per_index]}-{id}.{ext}\"\n",
    "\n",
    "def get_REPLACE_ID(column_id = 'Raw_File_ID', table='raw_files', column_rep='Filepath'):\n",
    "    cur.execute(f\"\"\"SELECT {column_id} from {table} where {column_rep} = 'REPLACE'\"\"\")\n",
    "    id = cur.fetchall()[-1][column_id]\n",
    "    return id\n",
    "\n",
    "def get_match(pattern, string):\n",
    "    matches = re.search(pattern, string)\n",
    "    if matches:\n",
    "\n",
    "        print(matches.group(1))\n",
    "        return(matches.group(1))\n",
    "    else:\n",
    "        raise ValueError(f'Improper string exported, couldn\\'t find {pattern} in the given text')\n",
    "\n",
    "def delete_folder(name, base = \".\"):\n",
    "    fpath = os.path.join(base, name)\n",
    "    if os.path.exists(fpath):\n",
    "        for item in os.listdir(fpath):\n",
    "            new_path = os.path.join(fpath, item)\n",
    "            if os.path.isfile(new_path):\n",
    "                os.remove(new_path)\n",
    "            elif os.path.isdir(new_path):\n",
    "                delete_folder(item, fpath)\n",
    "        os.rmdir(fpath)\n",
    "\n",
    "def make_folder(name, base = \".\", overwrite = True):\n",
    "    fpath = os.path.join(base, name)\n",
    "    delete_folder(name, base) if overwrite else None\n",
    "    if os.path.exists(fpath):\n",
    "        print(\"Filepath already exists\")\n",
    "    else:\n",
    "        os.mkdir(fpath)"
   ]
  },
  {
   "cell_type": "code",
   "execution_count": 10,
   "id": "b79cee66",
   "metadata": {},
   "outputs": [],
   "source": [
    "\n",
    "\n",
    "def add_photo(name, fpath, notes = '', f_out = './Files/Image_raw'):\n",
    "    '''\n",
    "    Returns: Index of added photo if successful, 0 if not\n",
    "    '''\n",
    "\n",
    "    im = Image.open(fpath)\n",
    "    width = im.size[0]\n",
    "    height = im.size[1]\n",
    "    fsize = os.stat(fpath).st_size\n",
    "    ext = get_ext(fpath)\n",
    "\n",
    "    cur.execute(f\"INSERT INTO raw_files (Username, Filepath, Size, Type, Extension, Notes, Width, Height, Time_Uploaded) VALUES ('{name}', 'REPLACE', {fsize}, 'Image', '{ext}', '{notes}', {width}, {height}, CURRENT_TIMESTAMP);\")\n",
    "    id = get_REPLACE_ID()\n",
    "    f_id_name = get_id_fname(f_out, fpath, id)\n",
    "    im.save(f_id_name)\n",
    "    cur.execute(f\"UPDATE raw_files SET Filepath = '{f_id_name}' WHERE Raw_File_ID = {id};\")\n",
    "    return id\n",
    "\n",
    "\n",
    "\n",
    "\n",
    "\n",
    "id_raw_photo = add_photo(cur_name, fpath = 'C:/Users/micha/OneDrive/Desktop/Shellfish_project_2024/Jupyter_local_code/dummy.jpg', notes = 'after significant changes')"
   ]
  },
  {
   "cell_type": "code",
   "execution_count": 11,
   "id": "a12356f6",
   "metadata": {},
   "outputs": [],
   "source": [
    "import cv2\n",
    "def add_video(name, fpath, notes = '', f_out = './Files/Video_raw'):\n",
    "    '''\n",
    "    Returns: Index of added video if successful, 0 if not\n",
    "    '''\n",
    "    cap = cv2.VideoCapture(fpath)\n",
    "    width = int(cap.get(cv2.CAP_PROP_FRAME_WIDTH))\n",
    "    height = int(cap.get(cv2.CAP_PROP_FRAME_HEIGHT))\n",
    "    fsize = os.stat(fpath).st_size\n",
    "    ext = get_ext(fpath)\n",
    "    \n",
    "    cur.execute(f\"INSERT INTO raw_files (Username, Filepath, Size, Type, Extension, Notes, Width, Height, Time_Uploaded) VALUES ('{name}', 'REPLACE', {fsize}, 'Video', '{ext}', '{notes}', {width}, {height}, CURRENT_TIMESTAMP);\")\n",
    "    id = get_REPLACE_ID()\n",
    "    f_id_name = get_id_fname(f_out, fpath, id)\n",
    "    sh.copyfile(fpath, f_id_name)\n",
    "\n",
    "    cur.execute(f\"UPDATE raw_files SET Filepath = '{f_id_name}' WHERE Raw_File_ID = {id};\")\n",
    "\n",
    "    fps = cap.get(cv2.CAP_PROP_FPS)\n",
    "    color_order = 'RGB' # FIXME - cant figure out how to extract from cv2 object\n",
    "\n",
    "    cur.execute(f\"INSERT INTO videos (Raw_File_ID, FPS, Color_Order) VALUES ('{id}', '{fps}', '{color_order}');\")\n",
    "\n",
    "    return id\n",
    "\n",
    "fpath_vid = \"C:/Users/micha/OneDrive/Desktop/Shellfish_project_2024/GOPR1077.MP4\"\n",
    "id_raw_video = add_video(cur_name, fpath_vid, notes='without dummy files')"
   ]
  },
  {
   "cell_type": "code",
   "execution_count": 33,
   "id": "56de2ab8",
   "metadata": {},
   "outputs": [
    {
     "name": "stdout",
     "output_type": "stream",
     "text": [
      "Rvk9Clz4ote58KBvCfU3\n",
      "curvy-oysters\n",
      "oysters-cjt7n\n",
      "19\n",
      "yolov8\n",
      "loading Roboflow workspace...\n",
      "loading Roboflow project...\n",
      "Dependency ultralytics==8.0.196 is required but found version=8.1.34, to fix: `pip install ultralytics==8.0.196`\n"
     ]
    },
    {
     "name": "stderr",
     "output_type": "stream",
     "text": [
      "Downloading Dataset Version Zip in ./Files/Roboflow/curvy-oysters_oysters-cjt7n_19_yolov8 to yolov8:: 100%|██████████| 156522/156522 [00:18<00:00, 8417.95it/s] "
     ]
    },
    {
     "name": "stdout",
     "output_type": "stream",
     "text": [
      "\n"
     ]
    },
    {
     "name": "stderr",
     "output_type": "stream",
     "text": [
      "\n",
      "Extracting Dataset Version Zip to ./Files/Roboflow/curvy-oysters_oysters-cjt7n_19_yolov8 in yolov8:: 100%|██████████| 5668/5668 [00:01<00:00, 2869.03it/s]\n"
     ]
    }
   ],
   "source": [
    "\n",
    "        \n",
    "\n",
    "def add_roboflow(name, export_string, f_out = './Files/Roboflow', f_weights = \"./Files/Weights\"):\n",
    "    \n",
    "    '''\n",
    "    Returns: Index of added roboflow if successful, 0 if not\n",
    "    '''\n",
    "    pattern_api = r'api_key\\s*=\\s*\"([^\"]+)\"'\n",
    "    api_key_lab = get_match(pattern_api, export_string)\n",
    "\n",
    "    pattern_workspace = r'rf\\.workspace\\(\"([^\"]+)\"\\)'\n",
    "    workspace_lab = get_match(pattern_workspace, export_string)\n",
    "\n",
    "    pattern_project = r'project\\s*=\\s*rf\\.workspace\\(\"[^\"]+\"\\)\\.project\\(\"([^\"]+)\"\\)'\n",
    "    project_lab = get_match(pattern_project, export_string)\n",
    "\n",
    "    pattern_version = r'\\bproject\\.version\\((\\d+)\\)'\n",
    "    version_lab = get_match(pattern_version, export_string)\n",
    "\n",
    "    pattern_download = r'\\bdownload\\(\"([^\"]+)\"\\)'\n",
    "    download_lab = get_match(pattern_download, export_string)\n",
    "\n",
    "    folder_roboflow = f\"{f_out}/{workspace_lab}_{project_lab}_{version_lab}_{download_lab}\"\n",
    "\n",
    "    # if not os.path.exists(folder_roboflow):\n",
    "    rf = Roboflow(api_key = api_key_lab)\n",
    "    project = rf.workspace(workspace_lab).project(project_lab)\n",
    "    version = project.version(version_lab)\n",
    "    version.download(download_lab, location = folder_roboflow)\n",
    "    \n",
    "    fpath = f'{folder_roboflow}\\\\data.yaml'\n",
    "\n",
    "    with open(fpath) as f1:\n",
    "        lines = f1.readlines()\n",
    "    with open(fpath, 'w') as f2:\n",
    "        f2.writelines(lines[:-4])\n",
    "        f2.write(\"test: ../test/images\\ntrain: ../train/images\\nval: ../valid/images\\n\\n\")\n",
    "\n",
    "    if not os.path.exists(f_weights):\n",
    "        make_folder(f_weights)\n",
    "        prefix = \"https://github.com/THU-MIG/yolov10/releases/download/v1.1/yolov10\"\n",
    "        versions = ['n', 's', 'm', 'b', 'x', 'l']\n",
    "        suffix = \".pt\"\n",
    "        for ver in versions:\n",
    "            web_path = prefix + ver + suffix\n",
    "            wget.download(web_path, out = f_weights)\n",
    "    cur.execute(f\"INSERT INTO roboflow (Api_Key, Workspace, Project, Version, Download, Dataset_Location, Username, Timestamp) VALUES ('REPLACE', '{workspace_lab}', '{project_lab}', '{version_lab}', '{download_lab}', '{folder_roboflow}', '{name}', CURRENT_TIMESTAMP);\")\n",
    "    \n",
    "    id = get_REPLACE_ID('Roboflow_ID', 'roboflow', 'Api_Key')\n",
    "    \n",
    "    cur.execute(f\"UPDATE roboflow SET Api_Key = '{api_key_lab}' WHERE Roboflow_ID = {id};\")\n",
    "\n",
    "\n",
    "\n",
    "    return id\n",
    "\n",
    "\n",
    "\n",
    "\n",
    "    \n",
    "id_rob = add_roboflow(cur_name, \\\n",
    "\"\"\"\n",
    "rf = Roboflow(api_key=\"Rvk9Clz4ote58KBvCfU3\")\n",
    "project = rf.workspace(\"curvy-oysters\").project(\"oysters-cjt7n\")\n",
    "dataset = project.version(19).download(\"yolov8\")\n",
    "\n",
    "\"\"\" )\n",
    "\n",
    "\n"
   ]
  },
  {
   "cell_type": "code",
   "execution_count": 41,
   "id": "43f6f22a",
   "metadata": {},
   "outputs": [
    {
     "name": "stdout",
     "output_type": "stream",
     "text": [
      "c:\\Users\\micha\\OneDrive\\Desktop\\Shellfish_project_2024\\sql\n",
      "./Files/Weights/yolov10n.pt\n",
      "c:\\Users\\micha\\OneDrive\\Desktop\\Shellfish_project_2024\\sql\\Files/Roboflow/curvy-oysters_oysters-cjt7n_19_yolov8\\data.yaml\n",
      "./Files/Weights/yolov10n.pt\n"
     ]
    }
   ],
   "source": [
    "def add_model(name, roboflow_ID, f_out = \"./Files/Model\", tmp_path = \"./Files/tmp\", weights_path = \"./Files/Weights/yolov10n.pt\"):\n",
    "    make_folder(tmp_path)\n",
    "    print(os.getcwd())\n",
    "    # print(pt)\n",
    "    cur.execute(f\"SELECT * FROM roboflow WHERE Roboflow_ID = {roboflow_ID}\")\n",
    "    res = cur.fetchall()[-1]\n",
    "    print(weights_path)\n",
    "    pt = os.path.join(os.getcwd(), res['Dataset_Location'][2:], 'data.yaml')\n",
    "    pt_rep = pt.replace('\\\\', '/')\n",
    "    data_path = './Files/Weights/yolov10n.pt'\n",
    "    !yolo task=detect mode=train epochs=10 batch=32 plots=False model={data_path} data={pt_rep}\n",
    "    delete_folder(tmp_path)\n",
    "\n",
    "add_model(cur_name, id_rob)\n",
    "    "
   ]
  },
  {
   "cell_type": "code",
   "execution_count": null,
   "id": "5aba45b8",
   "metadata": {},
   "outputs": [],
   "source": []
  },
  {
   "cell_type": "code",
   "execution_count": 37,
   "id": "02ffb203",
   "metadata": {},
   "outputs": [
    {
     "name": "stdout",
     "output_type": "stream",
     "text": [
      "6\n",
      "7\n",
      "17\n"
     ]
    }
   ],
   "source": [
    "print(id_raw_photo)\n",
    "print(id_raw_video)\n",
    "print(id_rob)"
   ]
  },
  {
   "cell_type": "code",
   "execution_count": null,
   "id": "25291475",
   "metadata": {},
   "outputs": [],
   "source": []
  }
 ],
 "metadata": {
  "kernelspec": {
   "display_name": "Python 3 (ipykernel)",
   "language": "python",
   "name": "python3"
  },
  "language_info": {
   "codemirror_mode": {
    "name": "ipython",
    "version": 3
   },
   "file_extension": ".py",
   "mimetype": "text/x-python",
   "name": "python",
   "nbconvert_exporter": "python",
   "pygments_lexer": "ipython3",
   "version": "3.8.0"
  }
 },
 "nbformat": 4,
 "nbformat_minor": 5
}
