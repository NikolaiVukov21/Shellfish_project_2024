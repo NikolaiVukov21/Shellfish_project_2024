{
 "cells": [
  {
   "cell_type": "code",
   "execution_count": 1,
   "metadata": {
    "colab": {
     "base_uri": "https://localhost:8080/"
    },
    "id": "Y8cDtxLIBHgQ",
    "outputId": "30648244-13ac-4217-9b9a-5e86b6452e89"
   },
   "outputs": [
    {
     "name": "stdout",
     "output_type": "stream",
     "text": [
      "Mon Jun 10 09:40:55 2024       \r\n",
      "+---------------------------------------------------------------------------------------+\r\n",
      "| NVIDIA-SMI 535.86.10              Driver Version: 535.86.10    CUDA Version: 12.2     |\r\n",
      "|-----------------------------------------+----------------------+----------------------+\r\n",
      "| GPU  Name                 Persistence-M | Bus-Id        Disp.A | Volatile Uncorr. ECC |\r\n",
      "| Fan  Temp   Perf          Pwr:Usage/Cap |         Memory-Usage | GPU-Util  Compute M. |\r\n",
      "|                                         |                      |               MIG M. |\r\n",
      "|=========================================+======================+======================|\r\n",
      "|   0  NVIDIA GeForce RTX 4080        On  | 00000000:01:00.0  On |                  N/A |\r\n",
      "|  0%   38C    P8              17W / 320W |    461MiB / 16376MiB |      2%      Default |\r\n",
      "|                                         |                      |                  N/A |\r\n",
      "+-----------------------------------------+----------------------+----------------------+\r\n",
      "                                                                                         \r\n",
      "+---------------------------------------------------------------------------------------+\r\n",
      "| Processes:                                                                            |\r\n",
      "|  GPU   GI   CI        PID   Type   Process name                            GPU Memory |\r\n",
      "|        ID   ID                                                             Usage      |\r\n",
      "|=======================================================================================|\r\n",
      "|    0   N/A  N/A      1660      G   /usr/lib/xorg/Xorg                          150MiB |\r\n",
      "|    0   N/A  N/A      2282      G   /usr/bin/kwin_x11                            67MiB |\r\n",
      "|    0   N/A  N/A      2387      G   /usr/bin/plasmashell                         71MiB |\r\n",
      "|    0   N/A  N/A   1613870      G   ...seed-version=20240609-180139.804000      135MiB |\r\n",
      "|    0   N/A  N/A   1623980      G   ...r/2165/dolphinyUQwRK.9.slave-socket        3MiB |\r\n",
      "+---------------------------------------------------------------------------------------+\r\n"
     ]
    }
   ],
   "source": [
    "!nvidia-smi"
   ]
  },
  {
   "cell_type": "code",
   "execution_count": 13,
   "metadata": {
    "colab": {
     "base_uri": "https://localhost:8080/"
    },
    "id": "tdSMcABDNKW-",
    "outputId": "927f327a-ba2b-4fb4-e544-1ea2d45f778f"
   },
   "outputs": [
    {
     "name": "stdout",
     "output_type": "stream",
     "text": [
      "\u001b[33mDEPRECATION: pyodbc 4.0.0-unsupported has a non-standard version number. pip 24.1 will enforce this behaviour change. A possible replacement is to upgrade to a newer version of pyodbc or contact the author to suggest that they release a version with a conforming version number. Discussion can be found at https://github.com/pypa/pip/issues/12063\u001b[0m\u001b[33m\r\n",
      "\u001b[0m"
     ]
    }
   ],
   "source": [
    "!pip install -q git+https://github.com/ultralytics/ultralytics.git@main "
   ]
  },
  {
   "cell_type": "code",
   "execution_count": 14,
   "metadata": {},
   "outputs": [
    {
     "name": "stdout",
     "output_type": "stream",
     "text": [
      "Collecting git+https://github.com/THU-MIG/yolov10.git\n",
      "  Cloning https://github.com/THU-MIG/yolov10.git to /tmp/pip-req-build-ovzengle\n",
      "  Running command git clone --filter=blob:none --quiet https://github.com/THU-MIG/yolov10.git /tmp/pip-req-build-ovzengle\n",
      "  Resolved https://github.com/THU-MIG/yolov10.git to commit ea93d4f3791f7271ecdabbe381fe4187eb397833\n",
      "  Installing build dependencies ... \u001b[?25ldone\n",
      "\u001b[?25h  Getting requirements to build wheel ... \u001b[?25ldone\n",
      "\u001b[?25h  Preparing metadata (pyproject.toml) ... \u001b[?25ldone\n",
      "\u001b[?25hRequirement already satisfied: supervision in /mnt/linuxlab/home/mstaus1/.local/lib/python3.9/site-packages (0.21.0)\n",
      "Requirement already satisfied: roboflow in /mnt/linuxlab/home/mstaus1/.local/lib/python3.9/site-packages (1.1.31)\n",
      "Requirement already satisfied: huggingface_hub in /mnt/linuxlab/home/mstaus1/anaconda3/lib/python3.9/site-packages (0.23.3)\n",
      "Requirement already satisfied: bottleneck==1.3.6 in /mnt/linuxlab/home/mstaus1/anaconda3/lib/python3.9/site-packages (1.3.6)\n",
      "Requirement already satisfied: numexpr==2.8.4 in /mnt/linuxlab/home/mstaus1/anaconda3/lib/python3.9/site-packages (2.8.4)\n",
      "Requirement already satisfied: numpy in /mnt/linuxlab/home/mstaus1/.local/lib/python3.9/site-packages (from bottleneck==1.3.6) (1.24.3)\n",
      "Requirement already satisfied: matplotlib>=3.3.0 in /mnt/linuxlab/home/mstaus1/.local/lib/python3.9/site-packages (from ultralytics==8.1.34) (3.9.0)\n",
      "Requirement already satisfied: opencv-python>=4.6.0 in /mnt/linuxlab/home/mstaus1/.local/lib/python3.9/site-packages (from ultralytics==8.1.34) (4.9.0.80)\n",
      "Requirement already satisfied: pillow>=7.1.2 in /mnt/linuxlab/home/mstaus1/.local/lib/python3.9/site-packages (from ultralytics==8.1.34) (10.3.0)\n",
      "Requirement already satisfied: pyyaml>=5.3.1 in /mnt/linuxlab/home/mstaus1/anaconda3/lib/python3.9/site-packages (from ultralytics==8.1.34) (6.0)\n",
      "Requirement already satisfied: requests>=2.23.0 in /mnt/linuxlab/home/mstaus1/anaconda3/lib/python3.9/site-packages (from ultralytics==8.1.34) (2.26.0)\n",
      "Requirement already satisfied: scipy>=1.4.1 in /mnt/linuxlab/home/mstaus1/.local/lib/python3.9/site-packages (from ultralytics==8.1.34) (1.13.1)\n",
      "Requirement already satisfied: torch>=1.8.0 in /mnt/linuxlab/home/mstaus1/.local/lib/python3.9/site-packages (from ultralytics==8.1.34) (1.10.1+cu113)\n",
      "Requirement already satisfied: torchvision>=0.9.0 in /mnt/linuxlab/home/mstaus1/.local/lib/python3.9/site-packages (from ultralytics==8.1.34) (0.11.2+cu113)\n",
      "Requirement already satisfied: tqdm>=4.64.0 in /mnt/linuxlab/home/mstaus1/.local/lib/python3.9/site-packages (from ultralytics==8.1.34) (4.66.4)\n",
      "Requirement already satisfied: psutil in /mnt/linuxlab/home/mstaus1/anaconda3/lib/python3.9/site-packages (from ultralytics==8.1.34) (5.8.0)\n",
      "Requirement already satisfied: py-cpuinfo in /mnt/linuxlab/home/mstaus1/.local/lib/python3.9/site-packages (from ultralytics==8.1.34) (9.0.0)\n",
      "Requirement already satisfied: thop>=0.1.1 in /mnt/linuxlab/home/mstaus1/.local/lib/python3.9/site-packages (from ultralytics==8.1.34) (0.1.1.post2209072238)\n",
      "Requirement already satisfied: pandas>=1.1.4 in /mnt/linuxlab/home/mstaus1/.local/lib/python3.9/site-packages (from ultralytics==8.1.34) (2.2.2)\n",
      "Requirement already satisfied: seaborn>=0.11.0 in /mnt/linuxlab/home/mstaus1/.local/lib/python3.9/site-packages (from ultralytics==8.1.34) (0.13.2)\n",
      "Requirement already satisfied: defusedxml<0.8.0,>=0.7.1 in /mnt/linuxlab/home/mstaus1/anaconda3/lib/python3.9/site-packages (from supervision) (0.7.1)\n",
      "Requirement already satisfied: opencv-python-headless>=4.5.5.64 in /mnt/linuxlab/home/mstaus1/.local/lib/python3.9/site-packages (from supervision) (4.8.0.74)\n",
      "Requirement already satisfied: certifi==2023.7.22 in /mnt/linuxlab/home/mstaus1/.local/lib/python3.9/site-packages (from roboflow) (2023.7.22)\n",
      "Requirement already satisfied: chardet==4.0.0 in /mnt/linuxlab/home/mstaus1/anaconda3/lib/python3.9/site-packages (from roboflow) (4.0.0)\n",
      "Requirement already satisfied: cycler==0.10.0 in /mnt/linuxlab/home/mstaus1/.local/lib/python3.9/site-packages (from roboflow) (0.10.0)\n",
      "Requirement already satisfied: idna==2.10 in /mnt/linuxlab/home/mstaus1/anaconda3/lib/python3.9/site-packages (from roboflow) (2.10)\n",
      "Requirement already satisfied: kiwisolver>=1.3.1 in /mnt/linuxlab/home/mstaus1/.local/lib/python3.9/site-packages (from roboflow) (1.4.5)\n",
      "Requirement already satisfied: python-dateutil in /mnt/linuxlab/home/mstaus1/.local/lib/python3.9/site-packages (from roboflow) (2.9.0.post0)\n",
      "Requirement already satisfied: python-dotenv in /mnt/linuxlab/home/mstaus1/.local/lib/python3.9/site-packages (from roboflow) (1.0.1)\n",
      "Requirement already satisfied: six in /mnt/linuxlab/home/mstaus1/anaconda3/lib/python3.9/site-packages (from roboflow) (1.16.0)\n",
      "Requirement already satisfied: urllib3>=1.26.6 in /mnt/linuxlab/home/mstaus1/.local/lib/python3.9/site-packages (from roboflow) (1.26.18)\n",
      "Requirement already satisfied: requests-toolbelt in /mnt/linuxlab/home/mstaus1/.local/lib/python3.9/site-packages (from roboflow) (1.0.0)\n",
      "Requirement already satisfied: python-magic in /mnt/linuxlab/home/mstaus1/.local/lib/python3.9/site-packages (from roboflow) (0.4.27)\n",
      "Requirement already satisfied: filelock in /mnt/linuxlab/home/mstaus1/anaconda3/lib/python3.9/site-packages (from huggingface_hub) (3.3.1)\n",
      "Requirement already satisfied: fsspec>=2023.5.0 in /mnt/linuxlab/home/mstaus1/anaconda3/lib/python3.9/site-packages (from huggingface_hub) (2024.6.0)\n",
      "Requirement already satisfied: packaging>=20.9 in /mnt/linuxlab/home/mstaus1/anaconda3/lib/python3.9/site-packages (from huggingface_hub) (21.0)\n",
      "Requirement already satisfied: typing-extensions>=3.7.4.3 in /mnt/linuxlab/home/mstaus1/.local/lib/python3.9/site-packages (from huggingface_hub) (4.0.0)\n",
      "Requirement already satisfied: contourpy>=1.0.1 in /mnt/linuxlab/home/mstaus1/.local/lib/python3.9/site-packages (from matplotlib>=3.3.0->ultralytics==8.1.34) (1.2.1)\n",
      "Requirement already satisfied: fonttools>=4.22.0 in /mnt/linuxlab/home/mstaus1/.local/lib/python3.9/site-packages (from matplotlib>=3.3.0->ultralytics==8.1.34) (4.53.0)\n",
      "Requirement already satisfied: pyparsing>=2.3.1 in /mnt/linuxlab/home/mstaus1/.local/lib/python3.9/site-packages (from matplotlib>=3.3.0->ultralytics==8.1.34) (3.1.2)\n",
      "Requirement already satisfied: importlib-resources>=3.2.0 in /mnt/linuxlab/home/mstaus1/.local/lib/python3.9/site-packages (from matplotlib>=3.3.0->ultralytics==8.1.34) (6.4.0)\n",
      "Requirement already satisfied: pytz>=2020.1 in /mnt/linuxlab/home/mstaus1/.local/lib/python3.9/site-packages (from pandas>=1.1.4->ultralytics==8.1.34) (2024.1)\n",
      "Requirement already satisfied: tzdata>=2022.7 in /mnt/linuxlab/home/mstaus1/.local/lib/python3.9/site-packages (from pandas>=1.1.4->ultralytics==8.1.34) (2024.1)\n",
      "Requirement already satisfied: charset-normalizer~=2.0.0 in /mnt/linuxlab/home/mstaus1/anaconda3/lib/python3.9/site-packages (from requests>=2.23.0->ultralytics==8.1.34) (2.0.4)\n",
      "Requirement already satisfied: zipp>=3.1.0 in /mnt/linuxlab/home/mstaus1/anaconda3/lib/python3.9/site-packages (from importlib-resources>=3.2.0->matplotlib>=3.3.0->ultralytics==8.1.34) (3.6.0)\n",
      "Building wheels for collected packages: ultralytics\n",
      "  Building wheel for ultralytics (pyproject.toml) ... \u001b[?25ldone\n",
      "\u001b[?25h  Created wheel for ultralytics: filename=ultralytics-8.1.34-py3-none-any.whl size=731144 sha256=d88d4b2b87586c328f4dbf52876187e54215f11873bcc82b665bddcdb0cfc52a\n",
      "  Stored in directory: /tmp/pip-ephem-wheel-cache-n1dd6qlw/wheels/56/70/0c/afcd8ae240f72a3f1cb29a722dd11468358e79b63fb41b7d55\n",
      "Successfully built ultralytics\n",
      "\u001b[33mDEPRECATION: pyodbc 4.0.0-unsupported has a non-standard version number. pip 24.1 will enforce this behaviour change. A possible replacement is to upgrade to a newer version of pyodbc or contact the author to suggest that they release a version with a conforming version number. Discussion can be found at https://github.com/pypa/pip/issues/12063\u001b[0m\u001b[33m\n",
      "\u001b[0mInstalling collected packages: ultralytics\n",
      "  Attempting uninstall: ultralytics\n",
      "    Found existing installation: ultralytics 8.2.30\n",
      "    Uninstalling ultralytics-8.2.30:\n",
      "      Successfully uninstalled ultralytics-8.2.30\n",
      "Successfully installed ultralytics-8.1.34\n"
     ]
    }
   ],
   "source": [
    "!pip install git+https://github.com/THU-MIG/yolov10.git supervision roboflow huggingface_hub bottleneck==1.3.6 numexpr==2.8.4"
   ]
  },
  {
   "cell_type": "code",
   "execution_count": 15,
   "metadata": {
    "colab": {
     "base_uri": "https://localhost:8080/"
    },
    "id": "CjpPg4mGKc1v",
    "outputId": "54a84bc0-877d-4b7a-9ea3-bc5cee0b2df5"
   },
   "outputs": [
    {
     "name": "stdout",
     "output_type": "stream",
     "text": [
      "/mnt/linuxlab/home/mstaus1/Desktop/Shellfish_project_2024/Jupyter_local_code\n",
      "/mnt/linuxlab/home/mstaus1/Desktop/Shellfish_project_2024/Jupyter_local_code/datasets\n"
     ]
    }
   ],
   "source": [
    "import os\n",
    "HOME = os.getcwd()\n",
    "print(HOME)\n",
    "!rm {HOME}/datasets -r -f\n",
    "!mkdir {HOME}/datasets\n",
    "%cd {HOME}/datasets"
   ]
  },
  {
   "cell_type": "code",
   "execution_count": null,
   "metadata": {
    "colab": {
     "base_uri": "https://localhost:8080/"
    },
    "id": "2l67kw8xiYPX",
    "outputId": "5b207411-f1bc-414b-b00f-661320ced2d5"
   },
   "outputs": [],
   "source": [
    "!mkdir -p {HOME}/weightsyolo\n",
    "!wget -P {HOME}/weights -q https://github.com/THU-MIG/yolov10/releases/download/v1.1/yolov10n.pt\n",
    "!wget -P {HOME}/weights -q https://github.com/THU-MIG/yolov10/releases/download/v1.1/yolov10s.pt\n",
    "!wget -P {HOME}/weights -q https://github.com/THU-MIG/yolov10/releases/download/v1.1/yolov10m.pt\n",
    "!wget -P {HOME}/weights -q https://github.com/THU-MIG/yolov10/releases/download/v1.1/yolov10b.pt\n",
    "!wget -P {HOME}/weights -q https://github.com/THU-MIG/yolov10/releases/download/v1.1/yolov10x.pt\n",
    "!wget -P {HOME}/weights -q https://github.com/THU-MIG/yolov10/releases/download/v1.1/yolov10l.pt\n",
    "!ls -lh {HOME}/weights"
   ]
  },
  {
   "cell_type": "code",
   "execution_count": null,
   "metadata": {},
   "outputs": [],
   "source": [
    "from IPython.display import Image\n",
    "from roboflow import Roboflow\n",
    "import cv2\n",
    "import supervision as sv\n",
    "from ultralytics import YOLOv10\n",
    "import random"
   ]
  },
  {
   "cell_type": "markdown",
   "metadata": {
    "id": "t8Epf5rhnpV_"
   },
   "source": [
    "## Download dataset from Roboflow Universe"
   ]
  },
  {
   "cell_type": "code",
   "execution_count": null,
   "metadata": {
    "colab": {
     "base_uri": "https://localhost:8080/"
    },
    "id": "BSd93ZJzZZKt",
    "outputId": "fc7065cb-19bd-41bc-e576-fbd6a7bc3db2"
   },
   "outputs": [],
   "source": [
    "rf = Roboflow(api_key=\"Rvk9Clz4ote58KBvCfU3\")\n",
    "project = rf.workspace(\"curvy-oysters\").project(\"oysters-cjt7n\")\n",
    "dataset = project.version(19).download(\"yolov8\")"
   ]
  },
  {
   "cell_type": "markdown",
   "metadata": {
    "id": "yvRoruMguOIZ"
   },
   "source": [
    "**NOTE:**\n",
    "Make sure the last 4 lines of the data.yaml file have the following format:\n",
    "\n",
    "```\n",
    "test: ../test/images\n",
    "train: ../train/images\n",
    "val: ../valid/images\n",
    "```\n",
    "\n",
    "If using a dataset from Roboflow Universe, run the command below. 👇🏻"
   ]
  },
  {
   "cell_type": "code",
   "execution_count": null,
   "metadata": {
    "id": "2LLYQIS0tbC1"
   },
   "outputs": [],
   "source": [
    "!sed -i '$d' {dataset.location}/data.yaml\n",
    "!sed -i '$d' {dataset.location}/data.yaml\n",
    "!sed -i '$d' {dataset.location}/data.yaml\n",
    "!sed -i '$d' {dataset.location}/data.yaml\n",
    "!echo -e \"test: ../test/images\\ntrain: ../train/images\\nval: ../valid/images\" >> {dataset.location}/data.yaml"
   ]
  },
  {
   "cell_type": "markdown",
   "metadata": {
    "id": "YUjFBKKqXa-u"
   },
   "source": [
    "## Custom Training"
   ]
  },
  {
   "cell_type": "code",
   "execution_count": null,
   "metadata": {
    "colab": {
     "base_uri": "https://localhost:8080/"
    },
    "id": "D2YkphuiaE7_",
    "outputId": "a7c39d56-1a08-4d11-ec3d-17516e74435b"
   },
   "outputs": [],
   "source": [
    "%cd {HOME}\n",
    "\n",
    "!yolo task=detect mode=train epochs=10 batch=32 plots=True \\\n",
    "model={HOME}/weights/yolov10n.pt \\\n",
    "data={dataset.location}/data.yaml"
   ]
  },
  {
   "cell_type": "code",
   "execution_count": null,
   "metadata": {
    "colab": {
     "base_uri": "https://localhost:8080/",
     "height": 484
    },
    "id": "_J35i8Ofhjxa",
    "outputId": "f1b6e427-9ee7-4cef-ac86-b3a1d50eee31"
   },
   "outputs": [],
   "source": [
    "%cd {HOME}\n",
    "Image(filename=f'{HOME}/runs/detect/train/confusion_matrix.png', width=600)"
   ]
  },
  {
   "cell_type": "code",
   "execution_count": null,
   "metadata": {
    "colab": {
     "base_uri": "https://localhost:8080/",
     "height": 334
    },
    "id": "A-urTWUkhRmn",
    "outputId": "07f737f2-98c0-4330-dce2-f2b26255d136"
   },
   "outputs": [],
   "source": [
    "%cd {HOME}\n",
    "Image(filename=f'{HOME}/runs/detect/train/results.png', width=600)"
   ]
  },
  {
   "cell_type": "markdown",
   "metadata": {
    "id": "Sh6h0MOEy2WX"
   },
   "source": [
    "## Inference with Custom Model"
   ]
  },
  {
   "cell_type": "markdown",
   "metadata": {
    "id": "TNjsAO8m08ti"
   },
   "source": [
    "**NOTE:** Let's start by loading our newly trained model."
   ]
  },
  {
   "cell_type": "code",
   "execution_count": null,
   "metadata": {
    "id": "AY1ajwSzyXCE"
   },
   "outputs": [],
   "source": [
    "model = YOLOv10(f'{HOME}/runs/detect/train/weights/best.pt')\n",
    "\n",
    "dataset = sv.DetectionDataset.from_yolo(\n",
    "    images_directory_path=f\"{dataset.location}/valid/images\",\n",
    "    annotations_directory_path=f\"{dataset.location}/valid/labels\",\n",
    "    data_yaml_path=f\"{dataset.location}/data.yaml\"\n",
    ")\n",
    "\n",
    "bounding_box_annotator = sv.BoundingBoxAnnotator()\n",
    "label_annotator = sv.LabelAnnotator()"
   ]
  },
  {
   "cell_type": "markdown",
   "metadata": {
    "id": "ibNL8dwU1Jqw"
   },
   "source": [
    "**NOTE:** Let's randomly select an image from our validation set and visualize the results."
   ]
  },
  {
   "cell_type": "code",
   "execution_count": null,
   "metadata": {
    "colab": {
     "base_uri": "https://localhost:8080/",
     "height": 1000
    },
    "id": "rDuvNsnH0OEV",
    "outputId": "937b0ef1-3ba6-4408-8bfe-da3f6c85ea36"
   },
   "outputs": [],
   "source": [
    "random_image = random.choice(list(dataset.images.keys()))\n",
    "random_image = dataset.images[random_image]\n",
    "\n",
    "results = model(source=random_image, conf=0.25)[0]\n",
    "detections = sv.Detections.from_ultralytics(results)\n",
    "\n",
    "annotated_image = bounding_box_annotator.annotate(\n",
    "    scene=random_image, detections=detections)\n",
    "annotated_image = label_annotator.annotate(\n",
    "    scene=annotated_image, detections=detections)\n",
    "\n",
    "sv.plot_image(annotated_image)"
   ]
  },
  {
   "cell_type": "code",
   "execution_count": null,
   "metadata": {},
   "outputs": [],
   "source": []
  }
 ],
 "metadata": {
  "accelerator": "GPU",
  "colab": {
   "provenance": []
  },
  "gpuClass": "standard",
  "kernelspec": {
   "display_name": "Python 3 (ipykernel)",
   "language": "python",
   "name": "python3"
  },
  "language_info": {
   "codemirror_mode": {
    "name": "ipython",
    "version": 3
   },
   "file_extension": ".py",
   "mimetype": "text/x-python",
   "name": "python",
   "nbconvert_exporter": "python",
   "pygments_lexer": "ipython3",
   "version": "3.9.7"
  }
 },
 "nbformat": 4,
 "nbformat_minor": 1
}
